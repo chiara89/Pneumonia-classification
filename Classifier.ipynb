{
 "cells": [
  {
   "cell_type": "code",
   "execution_count": 1,
   "metadata": {},
   "outputs": [
    {
     "name": "stderr",
     "output_type": "stream",
     "text": [
      "/home/chiara/.local/lib/python3.6/site-packages/tensorflow/python/framework/dtypes.py:516: FutureWarning: Passing (type, 1) or '1type' as a synonym of type is deprecated; in a future version of numpy, it will be understood as (type, (1,)) / '(1,)type'.\n",
      "  _np_qint8 = np.dtype([(\"qint8\", np.int8, 1)])\n",
      "/home/chiara/.local/lib/python3.6/site-packages/tensorflow/python/framework/dtypes.py:517: FutureWarning: Passing (type, 1) or '1type' as a synonym of type is deprecated; in a future version of numpy, it will be understood as (type, (1,)) / '(1,)type'.\n",
      "  _np_quint8 = np.dtype([(\"quint8\", np.uint8, 1)])\n",
      "/home/chiara/.local/lib/python3.6/site-packages/tensorflow/python/framework/dtypes.py:518: FutureWarning: Passing (type, 1) or '1type' as a synonym of type is deprecated; in a future version of numpy, it will be understood as (type, (1,)) / '(1,)type'.\n",
      "  _np_qint16 = np.dtype([(\"qint16\", np.int16, 1)])\n",
      "/home/chiara/.local/lib/python3.6/site-packages/tensorflow/python/framework/dtypes.py:519: FutureWarning: Passing (type, 1) or '1type' as a synonym of type is deprecated; in a future version of numpy, it will be understood as (type, (1,)) / '(1,)type'.\n",
      "  _np_quint16 = np.dtype([(\"quint16\", np.uint16, 1)])\n",
      "/home/chiara/.local/lib/python3.6/site-packages/tensorflow/python/framework/dtypes.py:520: FutureWarning: Passing (type, 1) or '1type' as a synonym of type is deprecated; in a future version of numpy, it will be understood as (type, (1,)) / '(1,)type'.\n",
      "  _np_qint32 = np.dtype([(\"qint32\", np.int32, 1)])\n",
      "/home/chiara/.local/lib/python3.6/site-packages/tensorflow/python/framework/dtypes.py:525: FutureWarning: Passing (type, 1) or '1type' as a synonym of type is deprecated; in a future version of numpy, it will be understood as (type, (1,)) / '(1,)type'.\n",
      "  np_resource = np.dtype([(\"resource\", np.ubyte, 1)])\n",
      "/home/chiara/.local/lib/python3.6/site-packages/tensorboard/compat/tensorflow_stub/dtypes.py:541: FutureWarning: Passing (type, 1) or '1type' as a synonym of type is deprecated; in a future version of numpy, it will be understood as (type, (1,)) / '(1,)type'.\n",
      "  _np_qint8 = np.dtype([(\"qint8\", np.int8, 1)])\n",
      "/home/chiara/.local/lib/python3.6/site-packages/tensorboard/compat/tensorflow_stub/dtypes.py:542: FutureWarning: Passing (type, 1) or '1type' as a synonym of type is deprecated; in a future version of numpy, it will be understood as (type, (1,)) / '(1,)type'.\n",
      "  _np_quint8 = np.dtype([(\"quint8\", np.uint8, 1)])\n",
      "/home/chiara/.local/lib/python3.6/site-packages/tensorboard/compat/tensorflow_stub/dtypes.py:543: FutureWarning: Passing (type, 1) or '1type' as a synonym of type is deprecated; in a future version of numpy, it will be understood as (type, (1,)) / '(1,)type'.\n",
      "  _np_qint16 = np.dtype([(\"qint16\", np.int16, 1)])\n",
      "/home/chiara/.local/lib/python3.6/site-packages/tensorboard/compat/tensorflow_stub/dtypes.py:544: FutureWarning: Passing (type, 1) or '1type' as a synonym of type is deprecated; in a future version of numpy, it will be understood as (type, (1,)) / '(1,)type'.\n",
      "  _np_quint16 = np.dtype([(\"quint16\", np.uint16, 1)])\n",
      "/home/chiara/.local/lib/python3.6/site-packages/tensorboard/compat/tensorflow_stub/dtypes.py:545: FutureWarning: Passing (type, 1) or '1type' as a synonym of type is deprecated; in a future version of numpy, it will be understood as (type, (1,)) / '(1,)type'.\n",
      "  _np_qint32 = np.dtype([(\"qint32\", np.int32, 1)])\n",
      "/home/chiara/.local/lib/python3.6/site-packages/tensorboard/compat/tensorflow_stub/dtypes.py:550: FutureWarning: Passing (type, 1) or '1type' as a synonym of type is deprecated; in a future version of numpy, it will be understood as (type, (1,)) / '(1,)type'.\n",
      "  np_resource = np.dtype([(\"resource\", np.ubyte, 1)])\n"
     ]
    }
   ],
   "source": [
    "import pandas as pd\n",
    "import numpy as np\n",
    "import os, cv2, random, pickle\n",
    "import tensorflow as tf\n",
    "from tensorflow.keras.preprocessing.image import ImageDataGenerator\n",
    "from tensorflow.keras.models import Sequential\n",
    "from tensorflow.keras.layers import Dense, Dropout, Activation, Flatten, Conv2D, MaxPooling2D\n",
    "from tensorflow.keras.callbacks import EarlyStopping\n",
    "import matplotlib.pyplot as plt\n",
    "from matplotlib.colors import LogNorm\n",
    "\n"
   ]
  },
  {
   "cell_type": "code",
   "execution_count": 2,
   "metadata": {},
   "outputs": [],
   "source": [
    "size = 224\n",
    "training_data = []\n",
    "\n"
   ]
  },
  {
   "cell_type": "code",
   "execution_count": 3,
   "metadata": {},
   "outputs": [],
   "source": [
    "#create import function \n",
    "def image_import (img_path, class_type, appended_list):\n",
    "    for i in os.listdir(img_path):\n",
    "        read_path = os.path.join(img_path, i)\n",
    "       # print(i)\n",
    "        try:\n",
    "            img = cv2.imread(read_path)\n",
    "            img = cv2.resize(img, (size, size))\n",
    "            appended_list.append([img, class_type])\n",
    "        except Exception as e:\n",
    "            print(f'Image error: {i}')\n",
    "            pass\n",
    "\n"
   ]
  },
  {
   "cell_type": "code",
   "execution_count": 4,
   "metadata": {},
   "outputs": [
    {
     "name": "stdout",
     "output_type": "stream",
     "text": [
      "Train set:\n",
      "========================================\n",
      "PNEUMONIA=3875\n",
      "NORMAL=1341\n",
      "Test set:\n",
      "========================================\n",
      "PNEUMONIA=390\n",
      "NORMAL=234\n",
      "Validation set:\n",
      "========================================\n",
      "PNEUMONIA=8\n",
      "NORMAL=8\n"
     ]
    }
   ],
   "source": [
    "\n",
    "train_dir = \"data/X-ray_dataset_old/chest_xray/train\"\n",
    "test_dir = \"data/X-ray_dataset_old/chest_xray/test\"\n",
    "val_dir = \"data/X-ray_dataset_old/chest_xray/val\"\n",
    "\n",
    "print(\"Train set:\\n========================================\")\n",
    "num_pneumonia = len(os.listdir(os.path.join(train_dir, 'PNEUMONIA')))\n",
    "num_normal = len(os.listdir(os.path.join(train_dir, 'NORMAL')))\n",
    "print(f\"PNEUMONIA={num_pneumonia}\")\n",
    "print(f\"NORMAL={num_normal}\")\n",
    "NUM_IMAGES = num_pneumonia+num_normal\n",
    "\n",
    "print(\"Test set:\\n========================================\")\n",
    "print(f\"PNEUMONIA={len(os.listdir(os.path.join(test_dir, 'PNEUMONIA')))}\")\n",
    "print(f\"NORMAL={len(os.listdir(os.path.join(test_dir, 'NORMAL')))}\")\n",
    "\n",
    "print(\"Validation set:\\n========================================\")\n",
    "print(f\"PNEUMONIA={len(os.listdir(os.path.join(val_dir, 'PNEUMONIA')))}\")\n",
    "print(f\"NORMAL={len(os.listdir(os.path.join(val_dir, 'NORMAL')))}\")\n",
    "\n",
    "#import pneumonia images\n",
    "img_path = 'data/X-ray_dataset_old/chest_xray/train/PNEUMONIA'\n",
    "image_import(img_path,1, training_data)\n",
    "\n"
   ]
  },
  {
   "cell_type": "code",
   "execution_count": 5,
   "metadata": {},
   "outputs": [],
   "source": [
    "#import normal lung images\n",
    "img_path = 'data/X-ray_dataset_old/chest_xray/train/NORMAL'\n",
    "image_import(img_path, 0, training_data)\n",
    "\n"
   ]
  },
  {
   "cell_type": "code",
   "execution_count": 6,
   "metadata": {},
   "outputs": [],
   "source": [
    "#shuffle training data\n",
    "random.shuffle(training_data)\n",
    "\n"
   ]
  },
  {
   "cell_type": "code",
   "execution_count": 7,
   "metadata": {},
   "outputs": [],
   "source": [
    "#seperate XY\n",
    "features = []\n",
    "targets = []\n",
    "\n",
    "for f, t in training_data:\n",
    "    features.append(f)\n",
    "    targets.append(t)\n",
    "\n",
    "X = np.array(features).reshape(-1, size, size, 3)\n",
    "Y = np.array(targets)"
   ]
  },
  {
   "cell_type": "code",
   "execution_count": 8,
   "metadata": {},
   "outputs": [],
   "source": [
    "datagen = ImageDataGenerator(\n",
    "        rescale=1./255,\n",
    "        shear_range=0.2,\n",
    "        zoom_range=0.2,\n",
    "        horizontal_flip=False,\n",
    "        validation_split=0.2,\n",
    "        brightness_range=[0.2,1.0],)\n",
    "test_img = datagen.flow(\n",
    "    X,\n",
    "    Y,\n",
    "    subset=\"training\")\n",
    "val_img = datagen.flow(\n",
    "    X,\n",
    "    Y,\n",
    "    subset=\"validation\")"
   ]
  },
  {
   "cell_type": "code",
   "execution_count": 9,
   "metadata": {},
   "outputs": [
    {
     "name": "stderr",
     "output_type": "stream",
     "text": [
      "WARNING: Logging before flag parsing goes to stderr.\n",
      "W1216 15:54:15.418107 139851566425920 deprecation.py:506] From /home/chiara/.local/lib/python3.6/site-packages/tensorflow/python/ops/init_ops.py:1251: calling VarianceScaling.__init__ (from tensorflow.python.ops.init_ops) with dtype is deprecated and will be removed in a future version.\n",
      "Instructions for updating:\n",
      "Call initializer instance with the dtype argument instead of passing it to the constructor\n"
     ]
    }
   ],
   "source": [
    "#MobileNetV2 model\n",
    "base_model=tf.keras.applications.MobileNetV2(\n",
    "    include_top=False,\n",
    "    weights=\"imagenet\",\n",
    "    input_shape=(224, 224, 3),\n",
    "    pooling=max,\n",
    "    #classifier_activation=\"softmax\",\n",
    "    #**kwargs\n",
    ")\n",
    "base_model.trainable = False\n"
   ]
  },
  {
   "cell_type": "code",
   "execution_count": 10,
   "metadata": {},
   "outputs": [
    {
     "name": "stderr",
     "output_type": "stream",
     "text": [
      "W1216 15:26:30.770354 140272550463296 deprecation.py:323] From /home/chiara/.local/lib/python3.6/site-packages/tensorflow/python/ops/nn_impl.py:180: add_dispatch_support.<locals>.wrapper (from tensorflow.python.ops.array_ops) is deprecated and will be removed in a future version.\n",
      "Instructions for updating:\n",
      "Use tf.where in 2.0, which has the same broadcast rule as np.where\n"
     ]
    },
    {
     "name": "stdout",
     "output_type": "stream",
     "text": [
      "Model: \"sequential\"\n",
      "_________________________________________________________________\n",
      "Layer (type)                 Output Shape              Param #   \n",
      "=================================================================\n",
      "conv2d (Conv2D)              (None, 222, 222, 32)      896       \n",
      "_________________________________________________________________\n",
      "max_pooling2d (MaxPooling2D) (None, 111, 111, 32)      0         \n",
      "_________________________________________________________________\n",
      "conv2d_1 (Conv2D)            (None, 109, 109, 64)      18496     \n",
      "_________________________________________________________________\n",
      "max_pooling2d_1 (MaxPooling2 (None, 54, 54, 64)        0         \n",
      "_________________________________________________________________\n",
      "conv2d_2 (Conv2D)            (None, 52, 52, 64)        36928     \n",
      "_________________________________________________________________\n",
      "flatten (Flatten)            (None, 173056)            0         \n",
      "_________________________________________________________________\n",
      "dense (Dense)                (None, 64)                11075648  \n",
      "_________________________________________________________________\n",
      "dense_1 (Dense)              (None, 1)                 65        \n",
      "_________________________________________________________________\n",
      "activation (Activation)      (None, 1)                 0         \n",
      "=================================================================\n",
      "Total params: 11,132,033\n",
      "Trainable params: 11,132,033\n",
      "Non-trainable params: 0\n",
      "_________________________________________________________________\n"
     ]
    }
   ],
   "source": [
    "#build model\n",
    "model = Sequential()  \n",
    "model.add(tf.keras.layers.Conv2D(32, (3, 3), activation='relu', input_shape=(224, 224, 3)))\n",
    "model.add(tf.keras.layers.MaxPooling2D((2, 2)))\n",
    "model.add(tf.keras.layers.Conv2D(64, (3, 3), activation='relu'))\n",
    "model.add(tf.keras.layers.MaxPooling2D((2, 2)))\n",
    "model.add(tf.keras.layers.Conv2D(64, (3, 3), activation='relu'))\n",
    "model.add(tf.keras.layers.Flatten())\n",
    "model.add(tf.keras.layers.Dense(64, activation='relu'))\n",
    "model.add(tf.keras.layers.Dense(1))\n",
    "model.add(Activation('sigmoid'))\n",
    "model.summary()\n",
    "model.compile(loss = 'binary_crossentropy', optimizer = 'adam', metrics = ['accuracy'])\n"
   ]
  },
  {
   "cell_type": "code",
   "execution_count": 40,
   "metadata": {
    "scrolled": true
   },
   "outputs": [
    {
     "name": "stdout",
     "output_type": "stream",
     "text": [
      "Epoch 1/12\n",
      "131/131 [==============================] - 131s 1s/step - loss: 0.4309 - acc: 0.8176 - val_loss: 0.2243 - val_acc: 0.9147\n",
      "Epoch 2/12\n",
      "131/131 [==============================] - 142s 1s/step - loss: 0.2689 - acc: 0.8910 - val_loss: 0.2448 - val_acc: 0.8907\n",
      "Epoch 3/12\n",
      "131/131 [==============================] - 134s 1s/step - loss: 0.2270 - acc: 0.9075 - val_loss: 0.2183 - val_acc: 0.9099\n",
      "Epoch 4/12\n",
      "131/131 [==============================] - 133s 1s/step - loss: 0.2375 - acc: 0.9068 - val_loss: 0.2358 - val_acc: 0.9060\n",
      "Epoch 5/12\n",
      "131/131 [==============================] - 133s 1s/step - loss: 0.2121 - acc: 0.9145 - val_loss: 0.1690 - val_acc: 0.9396\n",
      "Epoch 6/12\n",
      "131/131 [==============================] - 143s 1s/step - loss: 0.2137 - acc: 0.9142 - val_loss: 0.1872 - val_acc: 0.9223\n",
      "Epoch 7/12\n",
      "131/131 [==============================] - 150s 1s/step - loss: 0.1927 - acc: 0.9288 - val_loss: 0.1829 - val_acc: 0.9262\n",
      "Epoch 8/12\n",
      "131/131 [==============================] - 134s 1s/step - loss: 0.1783 - acc: 0.9274 - val_loss: 0.1761 - val_acc: 0.9367\n",
      "Epoch 9/12\n",
      "131/131 [==============================] - 153s 1s/step - loss: 0.1764 - acc: 0.9276 - val_loss: 0.1818 - val_acc: 0.9406\n",
      "Epoch 10/12\n",
      "131/131 [==============================] - 135s 1s/step - loss: 0.1632 - acc: 0.9358 - val_loss: 0.1232 - val_acc: 0.9540\n",
      "Epoch 11/12\n",
      "131/131 [==============================] - 135s 1s/step - loss: 0.1690 - acc: 0.9324 - val_loss: 0.1224 - val_acc: 0.9482\n",
      "Epoch 12/12\n",
      "131/131 [==============================] - 137s 1s/step - loss: 0.1583 - acc: 0.9351 - val_loss: 0.1388 - val_acc: 0.9530\n"
     ]
    },
    {
     "data": {
      "text/plain": [
       "<tensorflow.python.keras.callbacks.History at 0x7f36224e8470>"
      ]
     },
     "execution_count": 40,
     "metadata": {},
     "output_type": "execute_result"
    }
   ],
   "source": [
    "#train model\n",
    "early_stop = EarlyStopping(monitor = 'val_loss', patience = 2)\n",
    "model.fit(test_img, batch_size = 32, epochs = 12,validation_data = val_img)\n",
    "\n"
   ]
  },
  {
   "cell_type": "code",
   "execution_count": 41,
   "metadata": {},
   "outputs": [],
   "source": [
    "model.save('pneumonia_cnn.model')"
   ]
  },
  {
   "cell_type": "code",
   "execution_count": 7,
   "metadata": {},
   "outputs": [],
   "source": [
    "#import pneumonia testng data\n",
    "img_path = 'data/X-ray_dataset_old/chest_xray/test/PNEUMONIA'\n",
    "testing_data=[]\n",
    "image_import(img_path, 1, testing_data)\n"
   ]
  },
  {
   "cell_type": "code",
   "execution_count": 8,
   "metadata": {},
   "outputs": [],
   "source": [
    "\n",
    "\n",
    "#import normal lung testing data\n",
    "img_path = 'data/X-ray_dataset_old/chest_xray/test/NORMAL'\n",
    "image_import(img_path,0, testing_data)\n",
    "\n"
   ]
  },
  {
   "cell_type": "code",
   "execution_count": 9,
   "metadata": {},
   "outputs": [],
   "source": [
    "#shuffle training_data\n",
    "random.shuffle(testing_data)"
   ]
  },
  {
   "cell_type": "code",
   "execution_count": 10,
   "metadata": {},
   "outputs": [],
   "source": [
    "#seperate testing to XY\n",
    "test_features = []\n",
    "test_targets = []\n",
    "\n",
    "for f, t in testing_data:\n",
    "    test_features.append(f)\n",
    "    test_targets.append(t)\n",
    "\n",
    "test_features = np.array(test_features).reshape(-1, size, size, 3)\n",
    "test_targets = np.array(test_targets)   \n",
    "test_features = test_features/255\n",
    "X_test = np.array(test_features).reshape(-1, size, size, 3)\n",
    "Y_test = np.array(test_targets)\n"
   ]
  },
  {
   "cell_type": "code",
   "execution_count": 11,
   "metadata": {},
   "outputs": [
    {
     "name": "stderr",
     "output_type": "stream",
     "text": [
      "WARNING: Logging before flag parsing goes to stderr.\n",
      "W1218 19:01:07.126194 140016708384576 deprecation.py:506] From /home/chiara/.local/lib/python3.6/site-packages/tensorflow/python/ops/init_ops.py:97: calling GlorotUniform.__init__ (from tensorflow.python.ops.init_ops) with dtype is deprecated and will be removed in a future version.\n",
      "Instructions for updating:\n",
      "Call initializer instance with the dtype argument instead of passing it to the constructor\n",
      "W1218 19:01:07.127332 140016708384576 deprecation.py:506] From /home/chiara/.local/lib/python3.6/site-packages/tensorflow/python/ops/init_ops.py:1251: calling VarianceScaling.__init__ (from tensorflow.python.ops.init_ops) with dtype is deprecated and will be removed in a future version.\n",
      "Instructions for updating:\n",
      "Call initializer instance with the dtype argument instead of passing it to the constructor\n",
      "W1218 19:01:07.128048 140016708384576 deprecation.py:506] From /home/chiara/.local/lib/python3.6/site-packages/tensorflow/python/ops/init_ops.py:97: calling Zeros.__init__ (from tensorflow.python.ops.init_ops) with dtype is deprecated and will be removed in a future version.\n",
      "Instructions for updating:\n",
      "Call initializer instance with the dtype argument instead of passing it to the constructor\n",
      "W1218 19:01:07.473542 140016708384576 deprecation.py:323] From /home/chiara/.local/lib/python3.6/site-packages/tensorflow/python/ops/nn_impl.py:180: add_dispatch_support.<locals>.wrapper (from tensorflow.python.ops.array_ops) is deprecated and will be removed in a future version.\n",
      "Instructions for updating:\n",
      "Use tf.where in 2.0, which has the same broadcast rule as np.where\n"
     ]
    },
    {
     "name": "stdout",
     "output_type": "stream",
     "text": [
      "624/624 [==============================] - 3s 5ms/sample - loss: 0.3912 - acc: 0.9006\n"
     ]
    }
   ],
   "source": [
    "\n",
    "\n",
    "#confusion matrix calculation\n",
    "false_negative = 0\n",
    "false_positive = 0\n",
    "true_negative = 0\n",
    "true_positive = 0\n",
    "\n",
    "model = tf.keras.models.load_model('pneumonia_cnn.model')\n",
    "result = model.predict_classes(test_features)\n",
    "accuracy = model.evaluate(test_features,test_targets)[1]\n",
    "\n",
    "for i in range(len(test_features)):\n",
    "    if test_targets[i] == 1:\n",
    "        if result[i] == 1:\n",
    "            true_positive += 1\n",
    "        elif result[i] == 0: \n",
    "            false_negative += 1\n",
    "        else:\n",
    "            print('error class not found')\n",
    "    if test_targets[i] == 0:\n",
    "        if result[i] == 1:\n",
    "            false_positive += 1\n",
    "        elif result[i] == 0: \n",
    "            true_negative += 1\n",
    "        else:\n",
    "            print('error class not found')\n",
    "            \n",
    "\n"
   ]
  },
  {
   "cell_type": "code",
   "execution_count": 12,
   "metadata": {},
   "outputs": [
    {
     "data": {
      "text/html": [
       "<div>\n",
       "<style scoped>\n",
       "    .dataframe tbody tr th:only-of-type {\n",
       "        vertical-align: middle;\n",
       "    }\n",
       "\n",
       "    .dataframe tbody tr th {\n",
       "        vertical-align: top;\n",
       "    }\n",
       "\n",
       "    .dataframe thead th {\n",
       "        text-align: right;\n",
       "    }\n",
       "</style>\n",
       "<table border=\"1\" class=\"dataframe\">\n",
       "  <thead>\n",
       "    <tr style=\"text-align: right;\">\n",
       "      <th></th>\n",
       "      <th>results</th>\n",
       "      <th>percent</th>\n",
       "    </tr>\n",
       "  </thead>\n",
       "  <tbody>\n",
       "    <tr>\n",
       "      <th>0</th>\n",
       "      <td>false_negative</td>\n",
       "      <td>0.022436</td>\n",
       "    </tr>\n",
       "    <tr>\n",
       "      <th>1</th>\n",
       "      <td>true_negative</td>\n",
       "      <td>0.298077</td>\n",
       "    </tr>\n",
       "    <tr>\n",
       "      <th>2</th>\n",
       "      <td>true_positive</td>\n",
       "      <td>0.602564</td>\n",
       "    </tr>\n",
       "    <tr>\n",
       "      <th>3</th>\n",
       "      <td>false_positive</td>\n",
       "      <td>0.076923</td>\n",
       "    </tr>\n",
       "  </tbody>\n",
       "</table>\n",
       "</div>"
      ],
      "text/plain": [
       "          results   percent\n",
       "0  false_negative  0.022436\n",
       "1   true_negative  0.298077\n",
       "2   true_positive  0.602564\n",
       "3  false_positive  0.076923"
      ]
     },
     "execution_count": 12,
     "metadata": {},
     "output_type": "execute_result"
    }
   ],
   "source": [
    "#create confusion matrix data\n",
    "test_result = [false_negative,\n",
    "               true_negative,\n",
    "              true_positive,\n",
    "               false_positive]\n",
    "adjusted_test_result = np.array(test_result)/(len(test_features))\n",
    "df_test_result = pd.DataFrame(np.array(['false_negative','true_negative','true_positive','false_positive']),columns=['results'])\n",
    "df_test_result['percent'] = adjusted_test_result\n",
    "df_test_result\n",
    "\n"
   ]
  },
  {
   "cell_type": "code",
   "execution_count": 13,
   "metadata": {},
   "outputs": [
    {
     "data": {
      "image/png": "[encoded data removed]",
      "text/plain": [
       "<Figure size 432x288 with 1 Axes>"
      ]
     },
     "metadata": {
      "needs_background": "light"
     },
     "output_type": "display_data"
    }
   ],
   "source": [
    "\n",
    "\n",
    "#confusion matrix plot \n",
    "fig,ax = plt.subplots()\n",
    "heatmap = ax.pcolor((df_test_result['percent'].to_numpy().reshape(2,2)),cmap='Blues')\n",
    "data = df_test_result['percent'].to_numpy().reshape(2,2)* 100\n",
    "for y in range(data.shape[0]):\n",
    "    for x in range(data.shape[1]):\n",
    "        ax.text(x + 0.5, y + 0.5, '%.2f' % data[y, x],\n",
    "                 horizontalalignment='center',\n",
    "                 verticalalignment='center',\n",
    "                 )\n",
    "ax.set_xticks([0.5,1.5])\n",
    "ax.set_yticks([0.5,1.5])\n",
    "ax.set_xticklabels(['Positive','Negative'])\n",
    "ax.set_yticklabels(['Negative','Positive'])\n",
    "plt.xlabel('actual value')\n",
    "plt.ylabel('predicted value')\n",
    "plt.title('Normalized pneumonia CNN confusion matrix with %.2f' %(accuracy*100)+ '% accuracy')\n",
    "plt.savefig('accuracy_model_original_data.png')\n",
    "plt.show()\n",
    "\n"
   ]
  },
  {
   "cell_type": "code",
   "execution_count": null,
   "metadata": {},
   "outputs": [],
   "source": []
  }
 ],
 "metadata": {
  "kernelspec": {
   "display_name": "Python 3",
   "language": "python",
   "name": "python3"
  },
  "language_info": {
   "codemirror_mode": {
    "name": "ipython",
    "version": 3
   },
   "file_extension": ".py",
   "mimetype": "text/x-python",
   "name": "python",
   "nbconvert_exporter": "python",
   "pygments_lexer": "ipython3",
   "version": "3.7.6"
  }
 },
 "nbformat": 4,
 "nbformat_minor": 2
}
